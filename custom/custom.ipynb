{
 "cells": [
  {
   "cell_type": "code",
   "execution_count": 1,
   "metadata": {},
   "outputs": [
    {
     "name": "stdout",
     "output_type": "stream",
     "text": [
      "Note: you may need to restart the kernel to use updated packages.\n"
     ]
    }
   ],
   "source": [
    "%pip install -q pandas"
   ]
  },
  {
   "cell_type": "code",
   "execution_count": 2,
   "metadata": {},
   "outputs": [],
   "source": [
    "def next_ref(refs: dict) -> tuple[int, str]:\n",
    "    \"\"\"\n",
    "    Get the next reference number and reference string.\n",
    "\n",
    "    Args:\n",
    "        refs (dict): A dictionary of references.\n",
    "\n",
    "    Returns:\n",
    "        tuple[int, str]: The next reference number and reference string.\n",
    "    \"\"\"\n",
    "    next_num = max(refs.keys()) + 1\n",
    "    next_ref = f'ref_{str(next_num).zfill(6)}'\n",
    "    return next_num, next_ref\n"
   ]
  },
  {
   "cell_type": "code",
   "execution_count": 3,
   "metadata": {},
   "outputs": [],
   "source": [
    "from typing import List\n",
    "\n",
    "def transform_dict_for_homebox(data: List[dict]) -> List[dict]:\n",
    "    \"\"\"\n",
    "    Transform a list of dictionaries to a list of dictionaries with keys\n",
    "    that are compatible with HomeBox.\n",
    "    \"\"\"\n",
    "    keymap = {\n",
    "        'name': 'HB.name',\n",
    "        'category': 'HB.field.category',\n",
    "        'qty': 'HB.quantity',\n",
    "        'location': 'HB.location',\n",
    "        'ref': 'HB.import_ref',\n",
    "    }\n",
    "\n",
    "    # Reserve the first 5 reference numbers for HomeBox\n",
    "    ref_nums: dict = {\n",
    "        0: True,\n",
    "        1: True,\n",
    "        2: True,\n",
    "        3: True,\n",
    "        4: True,\n",
    "    }\n",
    "\n",
    "    transformed_data = []\n",
    "    for item in data:\n",
    "        transformed_item = {}\n",
    "        for k, v in item.items():\n",
    "            transformed_item[keymap[k]] = v\n",
    "        ref_n, ref_s = next_ref(ref_nums)\n",
    "        transformed_item['HB.import_ref'] = ref_s\n",
    "        transformed_data.append(transformed_item)\n",
    "        ref_nums[ref_n] = True\n",
    "        \n",
    "    return transformed_data"
   ]
  },
  {
   "cell_type": "code",
   "execution_count": 4,
   "metadata": {},
   "outputs": [],
   "source": [
    "import csv\n",
    "\n",
    "# Load HomeBox CSV\n",
    "with open('csv_inventory.csv', mode='r') as file:\n",
    "    reader = csv.DictReader(file)\n",
    "    homebox_data = [row for row in reader]\n",
    "\n",
    "transformed_data = transform_dict_for_homebox(homebox_data)\n",
    "\n",
    "# Write transformed data to a new CSV file\n",
    "with open('homebox_inventory.csv', mode='w') as file:\n",
    "    writer = csv.DictWriter(file, fieldnames=transformed_data[0].keys())\n",
    "    writer.writeheader()\n",
    "    for row in transformed_data:\n",
    "        writer.writerow(row)"
   ]
  }
 ],
 "metadata": {
  "kernelspec": {
   "display_name": "homebox-venv",
   "language": "python",
   "name": "python3"
  },
  "language_info": {
   "codemirror_mode": {
    "name": "ipython",
    "version": 3
   },
   "file_extension": ".py",
   "mimetype": "text/x-python",
   "name": "python",
   "nbconvert_exporter": "python",
   "pygments_lexer": "ipython3",
   "version": "3.11.8"
  }
 },
 "nbformat": 4,
 "nbformat_minor": 2
}
